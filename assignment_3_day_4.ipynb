{
  "nbformat": 4,
  "nbformat_minor": 0,
  "metadata": {
    "colab": {
      "name": "assignment 3 day 4.ipynb",
      "provenance": []
    },
    "kernelspec": {
      "name": "python3",
      "display_name": "Python 3"
    }
  },
  "cells": [
    {
      "cell_type": "markdown",
      "metadata": {
        "id": "nIcVs3cKlH-u"
      },
      "source": [
        " Question 1: Write a program in python for opening a file & writing \"I love Letsupgrade\" & close it & read it back again & then append some data to it & close it."
      ]
    },
    {
      "cell_type": "code",
      "metadata": {
        "id": "GbabIjILjQJR"
      },
      "source": [
        "abc=open(\"Heyworld.txt\", 'w')\r\n",
        "abc.write(\"I love Letsupgrade\")\r\n",
        "abc.close()"
      ],
      "execution_count": 2,
      "outputs": []
    },
    {
      "cell_type": "code",
      "metadata": {
        "id": "qwjwNSc5ls81"
      },
      "source": [
        "abc=open(\"Heyworld.txt\", 'r')\r\n",
        "content=abc.read()\r\n",
        "abc.close()"
      ],
      "execution_count": 3,
      "outputs": []
    },
    {
      "cell_type": "code",
      "metadata": {
        "colab": {
          "base_uri": "https://localhost:8080/",
          "height": 35
        },
        "id": "GH6FWng3l8Sb",
        "outputId": "f6715d2d-b37d-4ead-abc3-37730ca04c3d"
      },
      "source": [
        "content"
      ],
      "execution_count": 4,
      "outputs": [
        {
          "output_type": "execute_result",
          "data": {
            "application/vnd.google.colaboratory.intrinsic+json": {
              "type": "string"
            },
            "text/plain": [
              "'I love Letsupgrade'"
            ]
          },
          "metadata": {
            "tags": []
          },
          "execution_count": 4
        }
      ]
    },
    {
      "cell_type": "code",
      "metadata": {
        "id": "7u0IdJS6mBvU"
      },
      "source": [
        "xyz=open(\"HEY.txt\", 'w')\r\n",
        "xyz.write(\"Happy Learning\")\r\n",
        "xyz.close()"
      ],
      "execution_count": 5,
      "outputs": []
    },
    {
      "cell_type": "code",
      "metadata": {
        "id": "PbSLnj_TmRWx"
      },
      "source": [
        "xyz=(\"HEY.txt\", 'a')\r\n",
        "xyz.write(\"Happy Learning\")\r\n",
        "xyz.close()"
      ],
      "execution_count": null,
      "outputs": []
    },
    {
      "cell_type": "markdown",
      "metadata": {
        "id": "_D3mXu9tmyup"
      },
      "source": [
        "Question 2: Write a Function which can return a factorial of any numbers as INT, given in the argument."
      ]
    },
    {
      "cell_type": "code",
      "metadata": {
        "colab": {
          "base_uri": "https://localhost:8080/"
        },
        "id": "QYq_gRd_orwA",
        "outputId": "b882ce4c-0a8e-44e2-fc09-5469354cbafe"
      },
      "source": [
        "def factorial(n):\r\n",
        "    if n == 0:\r\n",
        "        return 1\r\n",
        "    else:\r\n",
        "        return n * factorial(n-1)\r\n",
        "n=int(input(\"Input a number to compute the factiorial : \"))\r\n",
        "print(factorial(n))"
      ],
      "execution_count": 11,
      "outputs": [
        {
          "output_type": "stream",
          "text": [
            "Input a number to compute the factiorial : 6\n",
            "720\n"
          ],
          "name": "stdout"
        }
      ]
    }
  ]
}