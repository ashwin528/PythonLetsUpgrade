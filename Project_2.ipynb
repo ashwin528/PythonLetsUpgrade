{
  "nbformat": 4,
  "nbformat_minor": 0,
  "metadata": {
    "colab": {
      "name": "Project 2.ipynb",
      "provenance": [],
      "collapsed_sections": []
    },
    "kernelspec": {
      "name": "python3",
      "display_name": "Python 3"
    }
  },
  "cells": [
    {
      "cell_type": "markdown",
      "metadata": {
        "id": "w9_bg6iKxJSp"
      },
      "source": [
        "\r\n",
        "Project 2: Email Sending using python "
      ]
    },
    {
      "cell_type": "code",
      "metadata": {
        "colab": {
          "base_uri": "https://localhost:8080/"
        },
        "id": "sx-jK5YSxTvU",
        "outputId": "5144f729-f950-49ca-ef0c-5811bdb41004"
      },
      "source": [
        "! pip install emails"
      ],
      "execution_count": 1,
      "outputs": [
        {
          "output_type": "stream",
          "text": [
            "Collecting emails\n",
            "\u001b[?25l  Downloading https://files.pythonhosted.org/packages/55/7e/b648d640d88d31de49e566832aca9cce025c52d6349b0a0fc65e9df1f4c5/emails-0.6-py2.py3-none-any.whl (56kB)\n",
            "\u001b[K     |████████████████████████████████| 61kB 3.6MB/s \n",
            "\u001b[?25hRequirement already satisfied: python-dateutil in /usr/local/lib/python3.6/dist-packages (from emails) (2.8.1)\n",
            "Requirement already satisfied: chardet in /usr/local/lib/python3.6/dist-packages (from emails) (3.0.4)\n",
            "Collecting cssutils\n",
            "\u001b[?25l  Downloading https://files.pythonhosted.org/packages/6b/15/a9fb9010f58d1c55dd0b7779db2334feb9a572d407024f39a60f44293861/cssutils-1.0.2-py3-none-any.whl (406kB)\n",
            "\u001b[K     |████████████████████████████████| 409kB 8.6MB/s \n",
            "\u001b[?25hCollecting premailer\n",
            "  Downloading https://files.pythonhosted.org/packages/cd/ce/74bbdf0eee4265fd3f161d4276b36c9238b802191c2053c8e68578bda4e6/premailer-3.7.0-py2.py3-none-any.whl\n",
            "Requirement already satisfied: lxml in /usr/local/lib/python3.6/dist-packages (from emails) (4.2.6)\n",
            "Requirement already satisfied: requests in /usr/local/lib/python3.6/dist-packages (from emails) (2.23.0)\n",
            "Requirement already satisfied: six>=1.5 in /usr/local/lib/python3.6/dist-packages (from python-dateutil->emails) (1.15.0)\n",
            "Collecting cssselect\n",
            "  Downloading https://files.pythonhosted.org/packages/3b/d4/3b5c17f00cce85b9a1e6f91096e1cc8e8ede2e1be8e96b87ce1ed09e92c5/cssselect-1.1.0-py2.py3-none-any.whl\n",
            "Requirement already satisfied: cachetools in /usr/local/lib/python3.6/dist-packages (from premailer->emails) (4.1.1)\n",
            "Requirement already satisfied: urllib3!=1.25.0,!=1.25.1,<1.26,>=1.21.1 in /usr/local/lib/python3.6/dist-packages (from requests->emails) (1.24.3)\n",
            "Requirement already satisfied: certifi>=2017.4.17 in /usr/local/lib/python3.6/dist-packages (from requests->emails) (2020.12.5)\n",
            "Requirement already satisfied: idna<3,>=2.5 in /usr/local/lib/python3.6/dist-packages (from requests->emails) (2.10)\n",
            "Installing collected packages: cssutils, cssselect, premailer, emails\n",
            "Successfully installed cssselect-1.1.0 cssutils-1.0.2 emails-0.6 premailer-3.7.0\n"
          ],
          "name": "stdout"
        }
      ]
    },
    {
      "cell_type": "code",
      "metadata": {
        "id": "lVOVI6SKxdAX"
      },
      "source": [
        "import emails"
      ],
      "execution_count": 2,
      "outputs": []
    },
    {
      "cell_type": "code",
      "metadata": {
        "id": "kbwt0mKCxezj"
      },
      "source": [
        "html_text = '''<p><span style=\"font-family: Courier New, courier;\"><span style=\"background-color: rgb(247, 218, 100);\">HEY Rowdy,</span>&nbsp;</span></p>\r\n",
        "<p><span style=\"font-family: Courier New, courier;\"><br></span></p>\r\n",
        "<p><span style=\"font-family: Courier New, courier;\">How are you all, this is Ashwin Kumar,&nbsp;</span></p>\r\n",
        "<p><span style=\"font-family: Courier New, courier;\">Have a great day.</span></p>\r\n",
        "<p><span style=\"font-family: Courier New, courier;\"> hope you like this project&nbsp;</span></p>\r\n",
        "<p><span style=\"font-family: Courier New, courier;\"><br></span></p>\r\n",
        "<p><span style=\"font-family: Courier New, courier;\">Regards,&nbsp;</span></p>\r\n",
        "<p><strong><span style=\"font-family: Courier New, courier;\">Cheif,</span></strong></p>\r\n",
        "<p><span style=\"font-family: Courier New, courier;\"><strong>Ashwin Kumar</strong></span></p>'''\r\n",
        "\r\n",
        "\r\n",
        "message = emails.html(html=html_text,\r\n",
        "                          subject=\"Your EMAIL FROM PYTHON SCRIPT\",\r\n",
        "                          mail_from=('hello everyone ', 'ashwinkumar@xyz.com'))"
      ],
      "execution_count": 3,
      "outputs": []
    },
    {
      "cell_type": "code",
      "metadata": {
        "id": "hBWgdg65xwkr"
      },
      "source": [
        "mail_via_python = message.send(to='happy2345@gcompany.com', \r\n",
        "                               smtp={'host': 'smtp.gmail.com', \r\n",
        "                                     'timeout': 5,\r\n",
        "                                    'port':587,\r\n",
        "                                    'user':'YOUREMAIL@REQUIRED>COM',\r\n",
        "                                    'password':'YourPassWordREquired',\r\n",
        "                                    'tls':True})"
      ],
      "execution_count": 4,
      "outputs": []
    },
    {
      "cell_type": "code",
      "metadata": {
        "colab": {
          "base_uri": "https://localhost:8080/"
        },
        "id": "ENYjkQYbx8-O",
        "outputId": "1a7bf850-673d-4d5b-feff-33e40a387cbe"
      },
      "source": [
        "mail_via_python"
      ],
      "execution_count": 5,
      "outputs": [
        {
          "output_type": "execute_result",
          "data": {
            "text/plain": [
              "<emails.backend.SMTPResponse status_code=None status_text=None>"
            ]
          },
          "metadata": {
            "tags": []
          },
          "execution_count": 5
        }
      ]
    },
    {
      "cell_type": "code",
      "metadata": {
        "id": "yv8CKn6ox--Z"
      },
      "source": [
        "def sendMail(email, name):\r\n",
        "    \r\n",
        "    html_text = '''<p><span style=\"font-family: Courier New, courier;\"><span style=\"background-color: rgb(247, 218, 100);\">HEY,'''+ name+'''</span>&nbsp;</span></p>\r\n",
        "                <p><span style=\"font-family: Courier New, courier;\"><br></span></p>\r\n",
        "                <p><span style=\"font-family: Courier New, courier;\">How are you this is ASHWIN KUMAR,&nbsp;</span></p>\r\n",
        "                <p><span style=\"font-family: Courier New, courier;\">Have a great Day.</span></p>\r\n",
        "                <p><span style=\"font-family: Courier New, courier;\"> hope you like this project&nbsp;</span></p>\r\n",
        "                <p><span style=\"font-family: Courier New, courier;\"><br></span></p>\r\n",
        "                <p><span style=\"font-family: Courier New, courier;\">Regards,&nbsp;</span></p>\r\n",
        "                <p><strong><span style=\"font-family: Courier New, courier;\">Cheif,</span></strong></p>\r\n",
        "                <p><span style=\"font-family: Courier New, courier;\"><strong>Ashwin Kumar</strong></span></p>'''\r\n",
        "\r\n",
        "    subject = \"Hey \"+ name + \", you have EMAIL FROM LetsUpgrade\"\r\n",
        "    message = emails.html(html=html_text,\r\n",
        "                          subject=subject,\r\n",
        "                          mail_from=('hello', 'ashwinkumar@xyz.com'))\r\n",
        "\r\n",
        "    \r\n",
        "    mail_via_python = message.send(to=email, \r\n",
        "                               smtp={'host': 'smtp.gmail.com', \r\n",
        "                                     'timeout': 5,\r\n",
        "                                    'port':587,\r\n",
        "                                    'user':'YOUREMAIL@REQUIRED>COM',\r\n",
        "                                    'password':'YourPassWordREquired',\r\n",
        "                                    'tls':True})\r\n",
        "    return mail_via_python.status_code"
      ],
      "execution_count": 6,
      "outputs": []
    },
    {
      "cell_type": "code",
      "metadata": {
        "id": "qSwnE2NMyRuf"
      },
      "source": [
        "sendMail(\"ashwinkumar@xyz.com\",\"ASHWINKUMAR\")"
      ],
      "execution_count": 7,
      "outputs": []
    }
  ]
}