{
  "nbformat": 4,
  "nbformat_minor": 0,
  "metadata": {
    "colab": {
      "name": "day 3 assignment 2.ipynb",
      "provenance": [],
      "collapsed_sections": []
    },
    "kernelspec": {
      "name": "python3",
      "display_name": "Python 3"
    }
  },
  "cells": [
    {
      "cell_type": "markdown",
      "metadata": {
        "id": "HHPNqnRzgXSX"
      },
      "source": [
        "\r\n",
        "**Question 1: Use IF ELSE & Elif to write a program to write for your report cards.**"
      ]
    },
    {
      "cell_type": "code",
      "metadata": {
        "id": "nXLAV7MxgcY1"
      },
      "source": [
        "\r\n",
        "  A- if %<=85 and >80\r\n",
        "  B if %<=80 and >70\r\n",
        "  C if %<=70 and >60\r\n",
        "  D if %<=60 and >40\r\n",
        "E if %<=40 and also should print 'candidate failed' if %<=35\r\n",
        "\r\n",
        "msg = 'enter the percentage of student:'\r\n",
        "print(msg)\r\n",
        "a = raw_input()\r\n",
        "a = int(a.strip())\r\n",
        "if(a>85):\r\n",
        "  print('Grade - \\'A\\'')\r\n",
        "\r\n",
        "  elif(a>60 and a<=70):\r\n",
        "    print('Grade - \\'C\\'')\r\n",
        "\r\n",
        "  elif(a>40 and a<30):\r\n",
        "    print('Grade - \\'E\\'')"
      ],
      "execution_count": null,
      "outputs": []
    },
    {
      "cell_type": "markdown",
      "metadata": {
        "id": "a6wqy2jwg9d_"
      },
      "source": [
        "**Question 2: Using for loop to print prime numbers in between 1 to 1000.**"
      ]
    },
    {
      "cell_type": "code",
      "metadata": {
        "id": "Jlv8X8TbhD6A"
      },
      "source": [
        "lowest int(input(\"Enter lowest prime number:\"))\r\n",
        "highest int(input(\"Enter highest prime number:\"))\r\n",
        "for num in range(lowest,highest+1):\r\n",
        "  if num>1:\r\n",
        "    for i in range(99,num):\r\n",
        "      if(num%i)==0:\r\n",
        "        break\r\n",
        "    else:\r\n",
        "      print(num)"
      ],
      "execution_count": null,
      "outputs": []
    },
    {
      "cell_type": "markdown",
      "metadata": {
        "id": "O-rbMYlOhTRV"
      },
      "source": [
        "**Question 3: Write a program for printing the tables from 1,10 using nested for loop.**"
      ]
    },
    {
      "cell_type": "code",
      "metadata": {
        "colab": {
          "base_uri": "https://localhost:8080/"
        },
        "id": "ID03_-mnhXn9",
        "outputId": "8b16c543-5142-48a0-8bb9-bdc353ad9781"
      },
      "source": [
        "num= int(input(\"Enter the number:\"))\r\n",
        "print(\"multiplication table of,num\")\r\n",
        "for i in range(1,11):\r\n",
        "  print(num, \"x\",i,\"=\", num*i)"
      ],
      "execution_count": 5,
      "outputs": [
        {
          "output_type": "stream",
          "text": [
            "Enter the number:3\n",
            "multiplication table of,num\n",
            "3 x 1 = 3\n",
            "3 x 2 = 6\n",
            "3 x 3 = 9\n",
            "3 x 4 = 12\n",
            "3 x 5 = 15\n",
            "3 x 6 = 18\n",
            "3 x 7 = 21\n",
            "3 x 8 = 24\n",
            "3 x 9 = 27\n",
            "3 x 10 = 30\n"
          ],
          "name": "stdout"
        }
      ]
    },
    {
      "cell_type": "markdown",
      "metadata": {
        "id": "se0BPCbohfeI"
      },
      "source": [
        "**Question 4: Write a program to print x prime numbers using while loop starting from 0 and take the Input of x from the user.**"
      ]
    },
    {
      "cell_type": "code",
      "metadata": {
        "colab": {
          "base_uri": "https://localhost:8080/"
        },
        "id": "iYXmDvFxhk0F",
        "outputId": "c58444f2-9c54-42f0-f057-3f857aaed311"
      },
      "source": [
        "i=1\r\n",
        "while i<5:\r\n",
        "  print(i)\r\n",
        "  i+=1"
      ],
      "execution_count": 6,
      "outputs": [
        {
          "output_type": "stream",
          "text": [
            "1\n",
            "2\n",
            "3\n",
            "4\n"
          ],
          "name": "stdout"
        }
      ]
    }
  ]
}