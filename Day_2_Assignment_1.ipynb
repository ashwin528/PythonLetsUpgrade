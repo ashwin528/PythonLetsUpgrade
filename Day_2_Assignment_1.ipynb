{
  "nbformat": 4,
  "nbformat_minor": 0,
  "metadata": {
    "colab": {
      "name": "Day 2 Assignment 1.ipynb",
      "provenance": [],
      "collapsed_sections": []
    },
    "kernelspec": {
      "name": "python3",
      "display_name": "Python 3"
    }
  },
  "cells": [
    {
      "cell_type": "markdown",
      "metadata": {
        "id": "73omtfq6cJMD"
      },
      "source": [
        "\r\n",
        "\r\n",
        "**Question 1: Program to write functions of string in python**"
      ]
    },
    {
      "cell_type": "code",
      "metadata": {
        "colab": {
          "base_uri": "https://localhost:8080/"
        },
        "id": "5aYEBrxjcU57",
        "outputId": "383f963e-476d-447e-d591-cb0a33ec72c2"
      },
      "source": [
        "s= 'Hello Everyone'\r\n",
        "print(s.center(3))"
      ],
      "execution_count": null,
      "outputs": [
        {
          "output_type": "stream",
          "text": [
            "Hello Everyone\n"
          ],
          "name": "stdout"
        }
      ]
    },
    {
      "cell_type": "code",
      "metadata": {
        "colab": {
          "base_uri": "https://localhost:8080/"
        },
        "id": "WaPhT5gGcmE_",
        "outputId": "4af329bd-afc6-4eb1-be51-d09d1886a8ec"
      },
      "source": [
        "'44,244,,7,'.split(',')"
      ],
      "execution_count": null,
      "outputs": [
        {
          "output_type": "execute_result",
          "data": {
            "text/plain": [
              "['44', '244', '', '7', '']"
            ]
          },
          "metadata": {
            "tags": []
          },
          "execution_count": 2
        }
      ]
    },
    {
      "cell_type": "code",
      "metadata": {
        "colab": {
          "base_uri": "https://localhost:8080/",
          "height": 35
        },
        "id": "NpNcDEF5ctjR",
        "outputId": "a7c1d01c-60b0-4e85-a1cb-9a9105cd87fa"
      },
      "source": [
        "'             Have A great day          '.lstrip()"
      ],
      "execution_count": null,
      "outputs": [
        {
          "output_type": "execute_result",
          "data": {
            "application/vnd.google.colaboratory.intrinsic+json": {
              "type": "string"
            },
            "text/plain": [
              "'Have A great day          '"
            ]
          },
          "metadata": {
            "tags": []
          },
          "execution_count": 3
        }
      ]
    },
    {
      "cell_type": "code",
      "metadata": {
        "colab": {
          "base_uri": "https://localhost:8080/"
        },
        "id": "Elv82e_yc7x4",
        "outputId": "53c5ce85-7d75-49fd-aadb-949cb3a1e6d7"
      },
      "source": [
        "'1234567///890////abcdef'.splitlines()"
      ],
      "execution_count": null,
      "outputs": [
        {
          "output_type": "execute_result",
          "data": {
            "text/plain": [
              "['1234567///890////abcdef']"
            ]
          },
          "metadata": {
            "tags": []
          },
          "execution_count": 5
        }
      ]
    },
    {
      "cell_type": "code",
      "metadata": {
        "colab": {
          "base_uri": "https://localhost:8080/"
        },
        "id": "ISJB9q05dI7E",
        "outputId": "4f29e0ea-b799-414c-a568-7958508cefc6"
      },
      "source": [
        "b'1234DFEAAASD'.isalnum()"
      ],
      "execution_count": null,
      "outputs": [
        {
          "output_type": "execute_result",
          "data": {
            "text/plain": [
              "True"
            ]
          },
          "metadata": {
            "tags": []
          },
          "execution_count": 6
        }
      ]
    },
    {
      "cell_type": "markdown",
      "metadata": {
        "id": "q4o15C3rdQHA"
      },
      "source": [
        "**Question 2: program to write functions of list objects in python**"
      ]
    },
    {
      "cell_type": "code",
      "metadata": {
        "colab": {
          "base_uri": "https://localhost:8080/"
        },
        "id": "eE7nhcXcdYev",
        "outputId": "d2db5581-dcbb-4330-e451-330ff8511dfe"
      },
      "source": [
        "xs= [\"banana\", \"mango\", \"jerry\", \"pineapple\"]\r\n",
        "print(xs)"
      ],
      "execution_count": null,
      "outputs": [
        {
          "output_type": "stream",
          "text": [
            "['banana', 'mango', 'jerry', 'pineapple']\n"
          ],
          "name": "stdout"
        }
      ]
    },
    {
      "cell_type": "code",
      "metadata": {
        "colab": {
          "base_uri": "https://localhost:8080/"
        },
        "id": "qxVoqUhadwW6",
        "outputId": "8bed6aeb-e589-4220-d403-71039c72a21b"
      },
      "source": [
        "xs.append('lemon')\r\n",
        "print(xs)"
      ],
      "execution_count": null,
      "outputs": [
        {
          "output_type": "stream",
          "text": [
            "['banana', 'mango', 'jerry', 'pineapple', 'watermelon', 'lemon', 'lemon']\n"
          ],
          "name": "stdout"
        }
      ]
    },
    {
      "cell_type": "code",
      "metadata": {
        "colab": {
          "base_uri": "https://localhost:8080/"
        },
        "id": "FuH-ZoJEdzy5",
        "outputId": "9c63ea8c-b949-4988-d820-97bcda3ffb59"
      },
      "source": [
        "xs2=[\"11\",\"12\",\"34\",\"665566\",\"88777\"]\r\n",
        "xs2.count(\"12\")"
      ],
      "execution_count": null,
      "outputs": [
        {
          "output_type": "execute_result",
          "data": {
            "text/plain": [
              "1"
            ]
          },
          "metadata": {
            "tags": []
          },
          "execution_count": 11
        }
      ]
    },
    {
      "cell_type": "code",
      "metadata": {
        "colab": {
          "base_uri": "https://localhost:8080/"
        },
        "id": "jtaP9H62eHBy",
        "outputId": "7ca5ace3-98a0-4eae-ea3b-42bd50e07d93"
      },
      "source": [
        "xs2.index(\"665566\")"
      ],
      "execution_count": null,
      "outputs": [
        {
          "output_type": "execute_result",
          "data": {
            "text/plain": [
              "3"
            ]
          },
          "metadata": {
            "tags": []
          },
          "execution_count": 12
        }
      ]
    },
    {
      "cell_type": "code",
      "metadata": {
        "colab": {
          "base_uri": "https://localhost:8080/"
        },
        "id": "FdfwmHB8eUqN",
        "outputId": "a90a9f0b-6e34-4395-b27c-c8cc7208f668"
      },
      "source": [
        "xs2.sort()\r\n",
        "print(xs2)"
      ],
      "execution_count": null,
      "outputs": [
        {
          "output_type": "stream",
          "text": [
            "['11', '12', '34', '665566', '88777']\n"
          ],
          "name": "stdout"
        }
      ]
    },
    {
      "cell_type": "markdown",
      "metadata": {
        "id": "zR07t5mpear6"
      },
      "source": [
        "**Question 3: Functions of Dictionary:**"
      ]
    },
    {
      "cell_type": "code",
      "metadata": {
        "colab": {
          "base_uri": "https://localhost:8080/"
        },
        "id": "UwgQAov8efcZ",
        "outputId": "79347baa-c917-420e-80bb-e1d873ed8302"
      },
      "source": [
        " thisdict =\t{\r\n",
        "     \"brand\": \"Atlas\",\r\n",
        "  \"model\": \"brake bike\",\r\n",
        "  \"year\": 2002\r\n",
        "}\r\n",
        "print(thisdict)"
      ],
      "execution_count": null,
      "outputs": [
        {
          "output_type": "stream",
          "text": [
            "{'brand': 'Atlas', 'model': 'brake bike', 'year': 2002}\n"
          ],
          "name": "stdout"
        }
      ]
    },
    {
      "cell_type": "code",
      "metadata": {
        "colab": {
          "base_uri": "https://localhost:8080/"
        },
        "id": "y7axveZYfcqH",
        "outputId": "4dc187f4-6870-42f5-8ca9-7c23fe5cfc6a"
      },
      "source": [
        "my_dict = {'name': 'Ashwin', 'age': 30}\r\n",
        "print(my_dict['name'])"
      ],
      "execution_count": null,
      "outputs": [
        {
          "output_type": "stream",
          "text": [
            "Ashwin\n"
          ],
          "name": "stdout"
        }
      ]
    },
    {
      "cell_type": "code",
      "metadata": {
        "colab": {
          "base_uri": "https://localhost:8080/"
        },
        "id": "8MyvGh3GfkCu",
        "outputId": "c450fd7d-4839-4360-a789-79d774a17821"
      },
      "source": [
        "my_dict = {'name': 'Ashwin', 'age': 30}\r\n",
        "my_dict['address'] = 'India'\r\n",
        "print(my_dict)"
      ],
      "execution_count": null,
      "outputs": [
        {
          "output_type": "stream",
          "text": [
            "{'name': 'Ashwin', 'age': 30, 'address': 'India'}\n"
          ],
          "name": "stdout"
        }
      ]
    },
    {
      "cell_type": "code",
      "metadata": {
        "colab": {
          "base_uri": "https://localhost:8080/"
        },
        "id": "8BmGrFPSft-c",
        "outputId": "0fbaa80c-3d32-4271-a6d9-d59fea3dce2d"
      },
      "source": [
        "dict=[\"potato,\"\"tomato\", \"onion\", \"brinjal\"]\r\n",
        "print(dict)"
      ],
      "execution_count": null,
      "outputs": [
        {
          "output_type": "stream",
          "text": [
            "['potato,tomato', 'onion', 'brinjal']\n"
          ],
          "name": "stdout"
        }
      ]
    },
    {
      "cell_type": "code",
      "metadata": {
        "colab": {
          "base_uri": "https://localhost:8080/"
        },
        "id": "EXNqCVAVf7zr",
        "outputId": "c86a84ef-9cce-4894-c84a-0c6fdac7884c"
      },
      "source": [
        "dict=[\"tomato,\"\"brinjal\"]\r\n",
        "print(dict)"
      ],
      "execution_count": null,
      "outputs": [
        {
          "output_type": "stream",
          "text": [
            "['tomato,brinjal']\n"
          ],
          "name": "stdout"
        }
      ]
    }
  ]
}