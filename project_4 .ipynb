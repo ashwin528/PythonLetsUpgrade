{
  "nbformat": 4,
  "nbformat_minor": 0,
  "metadata": {
    "colab": {
      "name": "project 4.ipynb",
      "provenance": [],
      "collapsed_sections": []
    },
    "kernelspec": {
      "name": "python3",
      "display_name": "Python 3"
    }
  },
  "cells": [
    {
      "cell_type": "markdown",
      "metadata": {
        "id": "SMJQsD-tzKPB"
      },
      "source": [
        "Project 4: Using firebase DB in python"
      ]
    },
    {
      "cell_type": "code",
      "metadata": {
        "colab": {
          "base_uri": "https://localhost:8080/"
        },
        "id": "9GGkYCKPzcWC",
        "outputId": "bb5f9455-bb36-4ba6-b70a-8db57e864d6b"
      },
      "source": [
        "!pip install firebase"
      ],
      "execution_count": 1,
      "outputs": [
        {
          "output_type": "stream",
          "text": [
            "Collecting firebase\n",
            "  Downloading https://files.pythonhosted.org/packages/f8/33/6b2a24e349563f2d279ccc8321f26a9c0d6d2f8205adb68f3046c3ec7a89/firebase-3.0.1-py3-none-any.whl\n",
            "Requirement already satisfied: requests in /usr/local/lib/python3.6/dist-packages (from firebase) (2.23.0)\n",
            "Requirement already satisfied: chardet<4,>=3.0.2 in /usr/local/lib/python3.6/dist-packages (from requests->firebase) (3.0.4)\n",
            "Requirement already satisfied: idna<3,>=2.5 in /usr/local/lib/python3.6/dist-packages (from requests->firebase) (2.10)\n",
            "Requirement already satisfied: urllib3!=1.25.0,!=1.25.1,<1.26,>=1.21.1 in /usr/local/lib/python3.6/dist-packages (from requests->firebase) (1.24.3)\n",
            "Requirement already satisfied: certifi>=2017.4.17 in /usr/local/lib/python3.6/dist-packages (from requests->firebase) (2020.12.5)\n",
            "Installing collected packages: firebase\n",
            "Successfully installed firebase-3.0.1\n"
          ],
          "name": "stdout"
        }
      ]
    },
    {
      "cell_type": "code",
      "metadata": {
        "id": "TBI9FvKYzkpM"
      },
      "source": [
        "import firebase_admin"
      ],
      "execution_count": 2,
      "outputs": []
    },
    {
      "cell_type": "code",
      "metadata": {
        "id": "wgDN0B9izlpu"
      },
      "source": [
        "from firebase_admin import credentials\r\n",
        "from firebase_admin import firestore"
      ],
      "execution_count": 3,
      "outputs": []
    },
    {
      "cell_type": "code",
      "metadata": {
        "id": "h_Qz_sbAzqJ5"
      },
      "source": [
        "cred = credentials.Certificate(\"python-demo-firebase-adminsdk-uarq8-8b119e9471.json\")\r\n",
        "firebase_admin.initialize_app(cred)"
      ],
      "execution_count": null,
      "outputs": []
    },
    {
      "cell_type": "code",
      "metadata": {
        "id": "H1OZZUjJzteX"
      },
      "source": [
        "db = firestore.client()"
      ],
      "execution_count": null,
      "outputs": []
    },
    {
      "cell_type": "code",
      "metadata": {
        "id": "-6574ZlYzvpc"
      },
      "source": [
        "doc_ref = db.collection(u'users').document(u'abc')\r\n",
        "\r\n",
        "doc_ref.set({\r\n",
        "    u'first': u'ami',\r\n",
        "    u'last': u'ashu',\r\n",
        "    u'born': 1997\r\n",
        "})"
      ],
      "execution_count": null,
      "outputs": []
    },
    {
      "cell_type": "code",
      "metadata": {
        "id": "rGMP-sXlz-06"
      },
      "source": [
        "def enterDataInDB():\r\n",
        "    doc_ref = db.collection(u'LetsUpgradeUsers').document()\r\n",
        "    \r\n",
        "    name = input(\"Enter Name - \")\r\n",
        "    lastName = input(\"Enter Last Name - \")\r\n",
        "    age = int(input(\"Enter Age - \"))\r\n",
        "    \r\n",
        "    dit = {}\r\n",
        "    dit[\"firstName\"] = name\r\n",
        "    dit[\"lastName\"] = lastName\r\n",
        "    dit[\"age\"] = age\r\n",
        "    \r\n",
        "    doc_ref.set(dit)"
      ],
      "execution_count": null,
      "outputs": []
    },
    {
      "cell_type": "code",
      "metadata": {
        "id": "vjc42Pdz0BuK"
      },
      "source": [
        "enterDataInDB(\"sanjay\",\"lu\",90)"
      ],
      "execution_count": null,
      "outputs": []
    },
    {
      "cell_type": "code",
      "metadata": {
        "id": "0lRMK6420HAD"
      },
      "source": [
        "enterDataInDB(\"jeena\",\"lu\",90)"
      ],
      "execution_count": null,
      "outputs": []
    },
    {
      "cell_type": "code",
      "metadata": {
        "id": "qFUTa93j0KQk"
      },
      "source": [
        "enterDataInDB(\"kim\",\"lu\",90)"
      ],
      "execution_count": null,
      "outputs": []
    },
    {
      "cell_type": "code",
      "metadata": {
        "id": "Di19CVAu0Mr2"
      },
      "source": [
        "enterDataInDB(\"hin\",\"lu\",90)"
      ],
      "execution_count": null,
      "outputs": []
    },
    {
      "cell_type": "code",
      "metadata": {
        "id": "Gcyhg76Q0PY2"
      },
      "source": [
        "enterDataInDB()"
      ],
      "execution_count": null,
      "outputs": []
    },
    {
      "cell_type": "code",
      "metadata": {
        "id": "VjFx__aM0T6D"
      },
      "source": [
        "docs = db.collection(u'LetsUpgradeUsers').stream()\r\n",
        "\r\n",
        "for doc in docs:\r\n",
        "\r\n",
        "    \r\n",
        "    print(\"ID - \", doc.id)\r\n",
        "    \r\n",
        "    print(\"First Name - \", doc.to_dict().get(\"firstName\"))\r\n",
        "    print(\"Last Name - \", doc.to_dict().get(\"lastName\"))\r\n",
        "    print(\"Age - \", doc.to_dict().get(\"age\") )\r\n",
        "    \r\n",
        "    print(\"---------------\")\r\n",
        "    print(\"---------------\")"
      ],
      "execution_count": null,
      "outputs": []
    },
    {
      "cell_type": "code",
      "metadata": {
        "id": "DoEYHY2C0YmZ"
      },
      "source": [
        "def updateDatainFirebase(uid, updatedAge):\r\n",
        "    doc_ref = db.collection(u'LetsUpgradeUsers').document(uid)\r\n",
        "    \r\n",
        "    doc_ref.update({\"age\":updatedAge})"
      ],
      "execution_count": null,
      "outputs": []
    },
    {
      "cell_type": "code",
      "metadata": {
        "id": "sJYwgWDX0cAa"
      },
      "source": [
        "updateDatainFirebase(\"zslFTBzZl8BKFhSI4Yxy\",27)"
      ],
      "execution_count": null,
      "outputs": []
    },
    {
      "cell_type": "code",
      "metadata": {
        "id": "EWuAoJuI0awV"
      },
      "source": [
        "updateDatainFirebase(\"tQQd4Kt7UdGD6xuldAAN\",17)"
      ],
      "execution_count": null,
      "outputs": []
    },
    {
      "cell_type": "code",
      "metadata": {
        "id": "gkDeqb0H0ljn"
      },
      "source": [
        "def deleteDataInFirebase(uid):\r\n",
        "    db.collection(u'LetsUpgradeUsers').document(uid).delete()"
      ],
      "execution_count": null,
      "outputs": []
    },
    {
      "cell_type": "code",
      "metadata": {
        "id": "Ve1rcoP00ohz"
      },
      "source": [
        "deleteDataInFirebase(\"0rg4glbfc8l7cuTbl2MD\")"
      ],
      "execution_count": null,
      "outputs": []
    }
  ]
}